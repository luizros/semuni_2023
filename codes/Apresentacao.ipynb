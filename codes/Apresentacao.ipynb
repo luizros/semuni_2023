{
 "cells": [
  {
   "cell_type": "markdown",
   "metadata": {},
   "source": [
    "# **Visão Computacional**"
   ]
  },
  {
   "cell_type": "markdown",
   "metadata": {},
   "source": [
    "## **Comandos Básicos de Python**"
   ]
  },
  {
   "cell_type": "code",
   "execution_count": 1,
   "metadata": {},
   "outputs": [],
   "source": [
    "# importanto os pacotes necessários para o treinamento"
   ]
  },
  {
   "cell_type": "code",
   "execution_count": 2,
   "metadata": {},
   "outputs": [],
   "source": [
    "# Imprindo uma váriavel "
   ]
  },
  {
   "cell_type": "code",
   "execution_count": 3,
   "metadata": {},
   "outputs": [],
   "source": [
    "# Variaveis e tipos de dados"
   ]
  },
  {
   "cell_type": "code",
   "execution_count": 4,
   "metadata": {},
   "outputs": [],
   "source": [
    "# Exemplo de print para verificar o tipo de nossas variáveis"
   ]
  },
  {
   "cell_type": "code",
   "execution_count": 5,
   "metadata": {},
   "outputs": [],
   "source": [
    "# Exemplo mais elaborado"
   ]
  },
  {
   "cell_type": "code",
   "execution_count": 6,
   "metadata": {},
   "outputs": [],
   "source": [
    "# Estruturas condicionais"
   ]
  },
  {
   "cell_type": "code",
   "execution_count": 7,
   "metadata": {},
   "outputs": [],
   "source": [
    "# Laços de repetição"
   ]
  },
  {
   "cell_type": "code",
   "execution_count": 8,
   "metadata": {},
   "outputs": [],
   "source": [
    "# Exemplo de laço de repetição com while"
   ]
  },
  {
   "cell_type": "code",
   "execution_count": 9,
   "metadata": {},
   "outputs": [],
   "source": [
    "# Listas e tuplas"
   ]
  },
  {
   "cell_type": "code",
   "execution_count": 10,
   "metadata": {},
   "outputs": [],
   "source": [
    "# Funções"
   ]
  },
  {
   "cell_type": "code",
   "execution_count": 11,
   "metadata": {},
   "outputs": [],
   "source": [
    "# Tuplas"
   ]
  },
  {
   "cell_type": "markdown",
   "metadata": {},
   "source": [
    "### **Atividade 1**\n",
    "\n",
    "Crie uma função que recebe um número inteiro n e determine se ele é par ou ímpar. Se for ímpar, exiba na tela que ele é ímpar, e mostre o seu tipo, em seguida, calcule o fatorial desse número. No caso do inteiro ser par, imprima na tela que ele é par e seu tipo, também mostre os n primeiros números da sequência de Fibonacci desse número."
   ]
  },
  {
   "cell_type": "code",
   "execution_count": 12,
   "metadata": {},
   "outputs": [],
   "source": [
    "# Escreva seu código aqui:"
   ]
  },
  {
   "cell_type": "code",
   "execution_count": 13,
   "metadata": {},
   "outputs": [],
   "source": [
    "# Listando usando o python "
   ]
  },
  {
   "cell_type": "code",
   "execution_count": 14,
   "metadata": {},
   "outputs": [],
   "source": [
    "# Verificando o contéudo da nossa pasta assets"
   ]
  },
  {
   "cell_type": "markdown",
   "metadata": {},
   "source": [
    "## **O que é visão computacional?**\n",
    "\n",
    "*\"A visão computacional é um campo da inteligência artificial (IA) que permite que computadores e sistemas obtenham informações significativas de imagens digitais, vídeos e outras entradas visuais — e tomem ações ou façam recomendações com base nessas informações. Se a IA permite que os computadores pensem, a visão computacional permite que eles vejam, observem e entendam.\"* [site da IBM](https://www.ibm.com/).\n",
    "\n",
    "*\"A visão computacional é um campo da ciência da computação que se concentra em permitir que computadores identifiquem e entendam objetos e pessoas em imagens e vídeos. Como outros tipos de IA, a visão computacional busca executar e automatizar tarefas que replicam as capacidades humanas. Nesse caso, a visão computacional busca replicar tanto a maneira como os humanos veem quanto a maneira como os humanos dão sentido ao que veem.\"* [Microsoft](https://www.ibm.com/)\n",
    "\n",
    "Portanto, a visão computacional é o campo da ciência que faz com que máquinas possam enxergar e interpretar objetos, pessoas em imagens e videos.\n",
    "\n",
    "![Campos da Visão](../assets/camposVisao.png)\n",
    "\n",
    "\n",
    "## **OpenCV**\n",
    "\n",
    "![opencv](../assets/opencv.png)\n",
    "\n",
    "OpenCV (Open Source Computer Vision) é uma biblioteca de programação, de código aberto, desenvolvida inicialmente pela Intel com o objetivo de tornar a visão computacional mais acessível a desenvolvedores. \n",
    "\n",
    "Atualmente possui mais de 500 funções e pode ser usada em diversas linguagens de programação (Python, C++, Java...) e é usada em diversos tipos de análise em imagens e vídeos, como detecção, tracking e reconhecimento facial, edição de fotos, vídeos, etc.\n",
    "\n",
    "\n",
    "## **Imagem Digital**\n",
    "\n",
    "**Uma imagem digital(2D) é geralmente representada em termos de duas dimensões:** largura e altura. Dessa forma, cada pixel na imagem é identificado por sua posição nessas duas dimensões.\n",
    "\n",
    "No entanto, a representação de cores em uma imagem adiciona uma terceira dimensão, que é a dimensão da cor. Isso resulta em uma imagem colorida, onde cada pixel possui informações de cor. A dimensão de cor pode ser representada de diferentes maneiras, sendo as mais comuns:\n",
    "\n",
    "**Imagem em Escala de Cinza (Monocromática):** Nesse caso, cada pixel possui apenas um valor que representa a intensidade de brilho, variando de preto (0) a branco (255). A imagem é, portanto, uma matriz 2D de valores de intensidade.\n",
    "\n",
    "**$$f(x,y) = (L_{1})$$**\n",
    "\n",
    "$L_{min}$ e $L_{max}$: Variando de 0 até 255 - (8 bits na banda)\n",
    "\n",
    "![imagemCinza](../assets/imgGrayExample.jpg)\n",
    "\n",
    "**Imagem Colorida:** Para imagens coloridas, cada pixel possui três valores de cor: vermelho (R), verde (G) e azul (B), ou seja, cada pixel é uma combinação dessas três cores primárias. Essa representação é comum e é chamada de espaço de cores RGB. Cada canal de cor representa uma dimensão adicional na imagem.\n",
    "\n",
    "**Portanto, para uma imagem colorida, você teria três dimensões:** largura, altura e canais de cor (geralmente vermelho, verde e azul), tornando-a uma imagem 3D. Em termos de matrizes, isso seria representado como uma matriz 3D, onde cada elemento da matriz contém um vetor de três valores de cor\n",
    "\n",
    "**$$f(x,y) = (L_{1}, L_{2}, L_{3})$$**\n",
    "\n",
    "$L_{min}$ e $L_{max}$: Variando de 0 até 255 - 3x(8 bits por banda)\n",
    "\n",
    "\n",
    "<img src=\"../assets/rgbExample.png\" width=\"600\">\n",
    "\n",
    "\n",
    "## **Espaço de Cores RGB**\n",
    "\n",
    "O espaço de cores RGB é um modelo de cores que é amplamente utilizado na representação de imagens digitais. Ele é baseado na combinação de três cores primárias: vermelho, verde e azul. Cada pixel em uma imagem RGB é representado por três valores numéricos que indicam a intensidade de cada uma dessas cores. Esses valores variam de 0 a 255, o que significa que existem 256 níveis de intensidade para cada cor. Ao combinar essas três cores primárias em diferentes proporções, podemos criar uma ampla variedade de cores.\n",
    "\n",
    "<img src=\"../assets/RGB_color_solid_cube.png\" width=\"300\">\n",
    "\n",
    "O espaço de cores RGB é usado em muitos dispositivos eletrônicos, como monitores de computador, câmeras digitais e scanners. Ele também é usado em muitos softwares de edição de imagem, como o Adobe Photoshop e o GIMP."
   ]
  },
  {
   "cell_type": "code",
   "execution_count": 15,
   "metadata": {},
   "outputs": [],
   "source": [
    "# Imagem em tons cinza"
   ]
  },
  {
   "cell_type": "code",
   "execution_count": 16,
   "metadata": {},
   "outputs": [],
   "source": [
    "# Imprimindo o tipo"
   ]
  },
  {
   "cell_type": "code",
   "execution_count": 17,
   "metadata": {},
   "outputs": [],
   "source": [
    "# Dimensões"
   ]
  },
  {
   "cell_type": "code",
   "execution_count": 18,
   "metadata": {},
   "outputs": [],
   "source": [
    "# Acessando pelo index as dimensões"
   ]
  },
  {
   "cell_type": "code",
   "execution_count": 19,
   "metadata": {},
   "outputs": [],
   "source": [
    "# Verificando.."
   ]
  },
  {
   "cell_type": "code",
   "execution_count": 20,
   "metadata": {},
   "outputs": [],
   "source": [
    "# Salvando nossa imagem"
   ]
  },
  {
   "cell_type": "code",
   "execution_count": 21,
   "metadata": {},
   "outputs": [],
   "source": [
    "# Tipo dos elementos da nossa matriz"
   ]
  },
  {
   "cell_type": "code",
   "execution_count": 22,
   "metadata": {},
   "outputs": [],
   "source": [
    "# Dando novamente uma olhada na estrutura da matrix"
   ]
  },
  {
   "cell_type": "code",
   "execution_count": 23,
   "metadata": {},
   "outputs": [],
   "source": [
    "# Convertendo o tipo para inteiros de 0 à 255 (8 bits ou 1 byte)"
   ]
  },
  {
   "cell_type": "code",
   "execution_count": 24,
   "metadata": {},
   "outputs": [],
   "source": [
    "# Verificando.."
   ]
  },
  {
   "cell_type": "code",
   "execution_count": 25,
   "metadata": {},
   "outputs": [],
   "source": [
    "# Exibindo nossa imagem usando o OpenCV"
   ]
  },
  {
   "cell_type": "code",
   "execution_count": 26,
   "metadata": {},
   "outputs": [],
   "source": [
    "# Mudando as cores de nossa imagem"
   ]
  },
  {
   "cell_type": "code",
   "execution_count": 27,
   "metadata": {},
   "outputs": [],
   "source": [
    "# Exibindo nossa imagem usando o OpenCV"
   ]
  },
  {
   "cell_type": "markdown",
   "metadata": {},
   "source": [
    "## **Criando figuras geométricas**"
   ]
  },
  {
   "cell_type": "markdown",
   "metadata": {},
   "source": [
    "### **Reta**"
   ]
  },
  {
   "cell_type": "code",
   "execution_count": 28,
   "metadata": {},
   "outputs": [],
   "source": [
    "# Desenhar reta"
   ]
  },
  {
   "cell_type": "markdown",
   "metadata": {},
   "source": [
    "### **Circulo**"
   ]
  },
  {
   "cell_type": "code",
   "execution_count": 29,
   "metadata": {},
   "outputs": [],
   "source": [
    "# Desenhar circulo"
   ]
  },
  {
   "cell_type": "markdown",
   "metadata": {},
   "source": [
    "### **Retangulo**"
   ]
  },
  {
   "cell_type": "code",
   "execution_count": 30,
   "metadata": {},
   "outputs": [],
   "source": [
    "# Desenhar retangulo"
   ]
  },
  {
   "cell_type": "markdown",
   "metadata": {},
   "source": [
    "**Desafio**: Faça o simbolo do jogo da velha em uma imagem com fundo preto e as linhas na cor branca"
   ]
  },
  {
   "cell_type": "code",
   "execution_count": 31,
   "metadata": {},
   "outputs": [],
   "source": [
    "# Escreva seu código aqui:"
   ]
  },
  {
   "cell_type": "markdown",
   "metadata": {},
   "source": [
    "### Como abrir imagens"
   ]
  },
  {
   "cell_type": "code",
   "execution_count": 32,
   "metadata": {},
   "outputs": [],
   "source": [
    "# Abrir imagem"
   ]
  },
  {
   "cell_type": "code",
   "execution_count": 33,
   "metadata": {},
   "outputs": [],
   "source": [
    "# Baixando uma imagem RGB"
   ]
  },
  {
   "cell_type": "code",
   "execution_count": 34,
   "metadata": {},
   "outputs": [],
   "source": [
    "# Listar pasta assets"
   ]
  },
  {
   "cell_type": "markdown",
   "metadata": {},
   "source": [
    "**Desafio:** Usando os comandos anteriores obtenha a largura e o comprimento da imagem baixada. Lembre-se que o arquivo baixado está na pasta ../assets. "
   ]
  },
  {
   "cell_type": "code",
   "execution_count": 35,
   "metadata": {},
   "outputs": [],
   "source": [
    "# Escreva seu código aqui:"
   ]
  },
  {
   "cell_type": "markdown",
   "metadata": {},
   "source": [
    "### Como abrir vídeos"
   ]
  },
  {
   "cell_type": "code",
   "execution_count": 36,
   "metadata": {},
   "outputs": [],
   "source": [
    "# Abrindo um video"
   ]
  },
  {
   "cell_type": "markdown",
   "metadata": {},
   "source": [
    "### Compreendendo os canais de cores \n",
    "\n",
    "<!-- <img src=\"../assets/lena.jpg\"> --> \n",
    "<!-- Achei melhor usar da UnBeatables -->\n",
    "\n",
    "<img src=\"../assets/unbeatables_logo.png\" width = 300>\n",
    "\n",
    "\n",
    "Agora sabendo o que é uma imagem colorida, imagine-a como um quebra-cabeça composto por três partes fundamentais: os canais de cores RGB. Ao separar os canais, é possível perceber como cada um contribui para a aparência da imagem. O canal vermelho enfatiza as áreas da imagem com vermelho predominante, o canal verde destaca os verdes e o canal azul realça os azuis.\n",
    "\n",
    "Sabendo que cada canal contribui com sua intensidade e matiz específicas, ao combinar novamente os canais RGB, forma-se a imagem colorida original. \n",
    "\n",
    "Entender como esses canais funcionam é muito importante para edição e processamento de imagens em diversos contextos."
   ]
  },
  {
   "cell_type": "code",
   "execution_count": 37,
   "metadata": {},
   "outputs": [],
   "source": [
    "# Dividir uma imagem colorida em seus 3 canais (B, G, R) de forma individual"
   ]
  },
  {
   "cell_type": "markdown",
   "metadata": {},
   "source": [
    "## **Filtros e Remoção de Ruído** <Fernanda>\n",
    "\n",
    "As aplicações de filtros e remoção de ruídos em processamento de imagens são técnicas fundamentais para melhorar a qualidade das imagens, realçar características importantes e tornar a análise de imagens mais precisas. \n",
    "\n",
    "Para aprender o que é um filtro, é essencial primeiro entender como é sua implementação. Para isso, é preciso compreender o conceito de **convolução em imagens**.\n",
    "\n",
    "A convolução é uma operação básica no processamento de imagens, utilizada para aplicar filtros em uma imagem. Um filtro, muitas vezes chamado de \"kernel\", é uma matriz pequena que é deslizada sobre a imagem original, multiplicando os valores dos pixels da imagem pelos valores correspondentes do filtro e somando o resultado. Esse valor resultante é atribuído a um novo pixel na imagem de saída. A convolução ajuda a realçar características específicas da imagem, como bordas, texturas, entre outros.\n",
    "\n",
    "**Exemplo**:\n",
    "\n",
    "<img src=\"../assets/Convolucao_Imagens.png\" width=\"400\">\n",
    "\n",
    "Nesse exemplo é possível ver uma limitação da convolução que é o tratamento das bordas da imagem. A limitação no tratamento das bordas ocorre porque, para calcular os elementos do output, é necessário que o kernel se sobreponha completamente à imagem. Nas extremidades da imagem, onde o kernel não pode se sobrepor completamente, a convolução não é calculada. Isso resulta em uma saída menor do que a imagem original, deixando de considerar as bordas da imagem.\n",
    "\n",
    "Geralmente as funções de processamento de imagem, conseguem lidar com essa limitação e gerar um output do mesmo tamanho do input. Nesse exemplo, técnicas como preenchimento de borda (padding) podem ser usadas para estender a imagem, permitindo que o kernel se sobreponha completamente, resultando em um output do mesmo tamanho que a imagem original. O preenchimento pode ser feito replicando os valores das bordas da imagem ou usando outros métodos adequados.\n",
    "\n",
    "Visto a teoria, vamos para a prática dos filtros de suavização. O primeiro filtro que iremos aplicar é o filtro **blur**, que é uma das formas de retirar ruídos de uma imagem. Em resumo, o filtro blur, utilizando um kernel, realiza uma média aritmética dos valores dos pixels na vizinhança, onde cada pixel contribui igualmente para o cálculo da média. É uma média simples dos valores dos pixels vizinhos.\n",
    "\n",
    "Outro tipo de filtro de suavização que vamos aplicar é o **GaussianBlur**, que se difere do blur por causa do kernel. Em reusmo, o Gaussian Blur, utilizando um kernel gaussiano (onde os pesos dos pixels seguem uma função gaussiana), aplica uma média ponderada dos pixels vizinhos, onde os pixels mais próximos ao centro do kernel têm uma contribuição maior, criando o efeito de suavização na imagem.\n",
    "\n",
    "- Link para auxiliar no uso das funções do OpenCV: https://docs.opencv.org/3.4/d4/d86/group__imgproc__filter.html\n",
    "\n",
    "- Link para visualizar kernel dos filtros de suavização: https://www.opencv-srf.com/2018/01/filter-images-and-videos.html"
   ]
  },
  {
   "cell_type": "code",
   "execution_count": 38,
   "metadata": {},
   "outputs": [],
   "source": [
    "# Filtro e Remoção de Ruídos"
   ]
  },
  {
   "cell_type": "markdown",
   "metadata": {},
   "source": [
    "## **Máscaras em espaços de cores** <Fernanda>\n",
    "\n",
    "Vamos relembrar o que é uma imagem. Uma imagem é uma matriz de pixel e o pixel é um vetor que guarda informação de cor do pontinho da imagem, a gente sabe que em uma imagem em formato RGB, cada pixel possui 3 valores correspondentes às intensidades de vermelho, verde e azul. Pode-se interpretar o formato RGB como um cubo, em que os canais são eixos ortogonais. \n",
    "\n",
    "<!-- Falar sobre ponto da origem, o oposto e os diversos valores para diversas cores e tons -->\n",
    "\n",
    "<img src=\"../assets/cubo_RGB.png\" width = 250>\n",
    "\n",
    "- Link da documentação para auxiliar no código de segmentação RGB:\n",
    "    - https://docs.opencv.org/3.4/d2/df8/group__core__c.html#ga88fd8c24f2a348f8282ccc237c445518"
   ]
  },
  {
   "cell_type": "code",
   "execution_count": 39,
   "metadata": {},
   "outputs": [],
   "source": [
    "# Código que segmenta as cores quando a imagem está no formato RGB"
   ]
  },
  {
   "cell_type": "markdown",
   "metadata": {},
   "source": [
    "<!-- Mostrar que não funciona com os valores definidos para o espaço RGB -->\n",
    "O intervalo RGB as vezes não é tão bom para selecionar tons de cores, como é possível ver na imagem do cubo, existe uma fronteira indefinida do que pode ser verde e a função inRange tem uma limitação de cortar o espaço sempre em um paralelepípedo dentro do cubo, então se um paralelepípedo for muito grande pode selecionar cores a mais e se for muito pequeno, ele pode deixar de selecionar os tons desejados. \n",
    "\n",
    "Para tentar contornar eses problemas, foram criados outros espaços de cores como o HSL e o HSV. Ambos espaços de cores podem ser interpretados como cilindros. O HSV possui parâmetros \"Hue\": que é a matiz da cor (vermelho, azul, verde...) e é formado por um disco em que um ângulo determina a cor desejada. Possui também o \"Saturation\" e o \"Value\" que siginifica o brilho.\n",
    "\n",
    "O espaço HSL é parecido com o HSV. O que altera é que ao invés de possuir o canal \"Value\", ele possui o canal \"Lightness\", de luminosidade. Então se não existe a preocupação se o verde é claro, escuro e sim em segmentar vários tons de verde, é interessante usar um desses canais.\n",
    "\n",
    "<img src=\"../assets/HSV.png\" width = 250>\n",
    "<img src=\"../assets/HSL.png\" width = 250>\n",
    "\n",
    "- Link da documentação para auxiliar no código de segmentação HSV:\n",
    "    - https://docs.opencv.org/3.4/d8/d01/group__imgproc__color__conversions.html#ga397ae87e1288a81d2363b61574eb8cab"
   ]
  },
  {
   "cell_type": "code",
   "execution_count": 40,
   "metadata": {},
   "outputs": [],
   "source": [
    "# Segmentar no espaço HSV"
   ]
  },
  {
   "cell_type": "markdown",
   "metadata": {},
   "source": [
    "## **Erosaõ e Dilatação**"
   ]
  },
  {
   "cell_type": "markdown",
   "metadata": {},
   "source": [
    "Operações morfológicas são operações que processam as imagens com base em suas formas. As operações morfológicas mais básicas são duas: Eosão e Dilatação\n",
    "\n",
    "Noções básicas de erosão:\n",
    "\n",
    "* Corrói os limites do objeto de primeiro plano.\n",
    "* Usado para diminuir as características de uma imagem.\n",
    "\n",
    "Usos da erosão: \n",
    "\n",
    "Erosão:\n",
    "\n",
    "* É útil para remover pequenos ruídos brancos.\n",
    "* Usado para separar dois objetos conectados, etc."
   ]
  },
  {
   "cell_type": "code",
   "execution_count": 41,
   "metadata": {},
   "outputs": [],
   "source": [
    "# Código erosão"
   ]
  },
  {
   "cell_type": "code",
   "execution_count": 42,
   "metadata": {},
   "outputs": [],
   "source": [
    "# Código erosão"
   ]
  },
  {
   "cell_type": "markdown",
   "metadata": {},
   "source": [
    "É o oposto da erosão. Aqui, um elemento de pixel é '1' se pelo menos um pixel sob o kernel é '1'. \n",
    "\n",
    "* Em casos como a remoção de ruído, a erosão é seguida de dilatação. Porque, a erosão remove ruídos brancos, mas também encolhe nosso objeto. \n",
    "* Então a gente dilata. Como o ruído acabou, eles não voltam, mas nossa área de objetos aumenta.\n",
    "Também é útil na união de partes quebradas de um objeto."
   ]
  },
  {
   "cell_type": "code",
   "execution_count": 43,
   "metadata": {},
   "outputs": [],
   "source": [
    "# Código dilatação"
   ]
  },
  {
   "cell_type": "markdown",
   "metadata": {},
   "source": [
    "## **Visão Computacional**"
   ]
  },
  {
   "cell_type": "markdown",
   "metadata": {},
   "source": [
    "### **Desafio 1: Ligar todas as formas geometricas pelo centro geométrico**\n",
    "\n",
    "Na imagem disponibilizada, tente detectar a cor e as formas das imagens, encontre o centro de cada imagem e desenhe uma linha ligando os centros. (Na hora de ligar, não precisa ligar todos os centros com todos os centros, ligue dois a dois)\n",
    "\n",
    "<img src=\"../assets/desafio.png\" width = 290>"
   ]
  },
  {
   "cell_type": "code",
   "execution_count": 44,
   "metadata": {},
   "outputs": [],
   "source": [
    "# Escreva seu código aqui:"
   ]
  },
  {
   "cell_type": "markdown",
   "metadata": {},
   "source": [
    "### **Desafio 2: Detectar a bola no video**"
   ]
  },
  {
   "cell_type": "markdown",
   "metadata": {},
   "source": [
    "Escrever enunciado do desafio"
   ]
  },
  {
   "cell_type": "code",
   "execution_count": 45,
   "metadata": {},
   "outputs": [],
   "source": [
    "# Escreva aqui seu código:"
   ]
  }
 ],
 "metadata": {
  "kernelspec": {
   "display_name": "Python 3",
   "language": "python",
   "name": "python3"
  },
  "language_info": {
   "codemirror_mode": {
    "name": "ipython",
    "version": 3
   },
   "file_extension": ".py",
   "mimetype": "text/x-python",
   "name": "python",
   "nbconvert_exporter": "python",
   "pygments_lexer": "ipython3",
   "version": "3.10.12"
  },
  "orig_nbformat": 4
 },
 "nbformat": 4,
 "nbformat_minor": 2
}
