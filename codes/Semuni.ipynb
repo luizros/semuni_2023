{
 "cells": [
  {
   "cell_type": "markdown",
   "metadata": {},
   "source": [
    "# **Visão Computacional**"
   ]
  },
  {
   "cell_type": "markdown",
   "metadata": {},
   "source": [
    "## **Comandos Básicos de Python**"
   ]
  },
  {
   "cell_type": "code",
   "execution_count": 8,
   "metadata": {},
   "outputs": [],
   "source": [
    "# importanto os pacotes necessários para o treinamento\n",
    "import cv2 as cv \n",
    "import matplotlib.pyplot as plt\n",
    "import numpy as np\n",
    "import os "
   ]
  },
  {
   "cell_type": "code",
   "execution_count": 2,
   "metadata": {},
   "outputs": [
    {
     "name": "stdout",
     "output_type": "stream",
     "text": [
      "Hello World\n"
     ]
    }
   ],
   "source": [
    "# Imprindo uma váriavel \n",
    "print(\"Hello World\") "
   ]
  },
  {
   "cell_type": "code",
   "execution_count": 3,
   "metadata": {},
   "outputs": [
    {
     "name": "stdout",
     "output_type": "stream",
     "text": [
      "10\n",
      "5.1\n",
      "Olá Mundo\n"
     ]
    }
   ],
   "source": [
    "# Variaveis e tipos de dados\n",
    "\n",
    "a = 10 # váriavel do tipo inteira\n",
    "b = 5.1 # variavel do tipo float \n",
    "c = \"Olá Mundo\"  # variavel do tipo str \n",
    "print(a)\n",
    "print(b)\n",
    "print(c)"
   ]
  },
  {
   "cell_type": "code",
   "execution_count": 4,
   "metadata": {},
   "outputs": [
    {
     "name": "stdout",
     "output_type": "stream",
     "text": [
      "Tipo de a:  <class 'int'>\n",
      "Tipo de a:  <class 'float'>\n",
      "Tipo de a:  <class 'str'>\n"
     ]
    }
   ],
   "source": [
    "# Exemplo de print para verificar o tipo de nossas variáveis\n",
    "# Python é dinamicamente tipado, o que significa que você não precisa declarar explicitamente o tipo de variável.\n",
    "print(\"Tipo de a: \", type(a))\n",
    "print(\"Tipo de a: \", type(b))\n",
    "print(\"Tipo de a: \", type(c))"
   ]
  },
  {
   "cell_type": "code",
   "execution_count": 5,
   "metadata": {},
   "outputs": [],
   "source": [
    "# Exemplo mais elaborado\n",
    "nome = \"Alice\"\n",
    "idade = 30\n",
    "altura = 1.75"
   ]
  },
  {
   "cell_type": "code",
   "execution_count": 6,
   "metadata": {},
   "outputs": [
    {
     "name": "stdout",
     "output_type": "stream",
     "text": [
      "Você é maior de idade.\n"
     ]
    }
   ],
   "source": [
    "# Estruturas condicionais\n",
    "\"\"\"Apresentacao.ipynb\n",
    "\n",
    "Você pode usar as seguintes expressões para representar estruturas condicionais:\n",
    "\n",
    " > : maior que \n",
    "\n",
    " < : menor que \n",
    "\n",
    " >= : maior ou igual\n",
    "\n",
    " <= : menor ou igual\n",
    "\n",
    "\"\"\"\n",
    "idade = 18\n",
    "if idade >= 18:\n",
    "    print(\"Você é maior de idade.\")\n",
    "else:\n",
    "    print(\"Você é menor de idade.\")"
   ]
  },
  {
   "cell_type": "code",
   "execution_count": 7,
   "metadata": {},
   "outputs": [
    {
     "name": "stdout",
     "output_type": "stream",
     "text": [
      "0\n",
      "1\n",
      "2\n",
      "3\n",
      "4\n"
     ]
    }
   ],
   "source": [
    "# Laços de repetição\n",
    "for i in range(5):\n",
    "    print(i)"
   ]
  },
  {
   "cell_type": "code",
   "execution_count": 8,
   "metadata": {},
   "outputs": [
    {
     "name": "stdout",
     "output_type": "stream",
     "text": [
      "1 Ñ é menor que 10\n",
      "2 Ñ é menor que 10\n",
      "3 Ñ é menor que 10\n",
      "4 Ñ é menor que 10\n",
      "5 Ñ é menor que 10\n",
      "6 Ñ é menor que 10\n",
      "7 Ñ é menor que 10\n",
      "8 Ñ é menor que 10\n",
      "9 Ñ é menor que 10\n",
      "10 Ñ é menor que 10\n",
      "11 Eh maior que 10\n"
     ]
    }
   ],
   "source": [
    "# Exemplo de laço de repetição com while\n",
    "a = 0\n",
    "while True:\n",
    "    a += 1\n",
    "    if a <= 10 or a == 0:\n",
    "        print(a, \"Ñ é menor que 10\")\n",
    "    else:\n",
    "        print(a, \"Eh maior que 10\")\n",
    "        break"
   ]
  },
  {
   "cell_type": "code",
   "execution_count": 9,
   "metadata": {},
   "outputs": [
    {
     "name": "stdout",
     "output_type": "stream",
     "text": [
      "maçã\n"
     ]
    }
   ],
   "source": [
    "# Listas e tuplas\n",
    "frutas = [\"maçã\", \"banana\", \"laranja\"]\n",
    "print(frutas[0])  # Acessando o primeiro elemento da lista"
   ]
  },
  {
   "cell_type": "code",
   "execution_count": 10,
   "metadata": {},
   "outputs": [
    {
     "name": "stdout",
     "output_type": "stream",
     "text": [
      "Olá, Maria!\n"
     ]
    }
   ],
   "source": [
    "# Funções\n",
    "def saudacao(nome):\n",
    "    return f\"Olá, {nome}!\"\n",
    "\n",
    "mensagem = saudacao(\"Maria\")\n",
    "print(mensagem)"
   ]
  },
  {
   "cell_type": "code",
   "execution_count": 11,
   "metadata": {},
   "outputs": [
    {
     "name": "stdout",
     "output_type": "stream",
     "text": [
      "Nome: Luiz\n",
      "Sobrenome: Silva\n"
     ]
    }
   ],
   "source": [
    "# Tuplas\n",
    "cordenada_1 = (10, 5)\n",
    "nome_completo = (\"Luiz\", \"Marcos\", \"da\", \"Silva\")\n",
    "nome, sobrenome = nome_completo[0], nome_completo[3]\n",
    "print(\"Nome:\", nome)\n",
    "print(\"Sobrenome:\", sobrenome)"
   ]
  },
  {
   "cell_type": "markdown",
   "metadata": {},
   "source": [
    "### **Atividade 1**\n",
    "\n",
    "Crie uma função que recebe um número inteiro n e determine se ele é par ou ímpar. Se for ímpar, exiba na tela que ele é ímpar, e mostre o seu tipo, em seguida, calcule o fatorial desse número. No caso do inteiro ser par, imprima na tela que ele é par e seu tipo, também mostre os n primeiros números da sequência de Fibonacci desse número."
   ]
  },
  {
   "cell_type": "code",
   "execution_count": 12,
   "metadata": {},
   "outputs": [
    {
     "name": "stdout",
     "output_type": "stream",
     "text": [
      "Arquivo 0: Apresentacao.ipynb\n",
      "Arquivo 1: Apresentacao_cola.ipynb\n",
      "Arquivo 2: Apresentacao_Fernanda.ipynb\n",
      "Arquivo 3: ballDetect.py\n",
      "Arquivo 4: Semuni.ipynb\n"
     ]
    }
   ],
   "source": [
    "# Listando usando o python \n",
    "\n",
    "# O pacote os nos permite usar comandos básicos do sitema operacional. \n",
    "pasta = os.listdir('./') # retorna uma lista com os arquivos presentes no diretório passado\n",
    "\n",
    "# Printando os arquivos presentes na pasta\n",
    "for num, arquivo in enumerate(pasta):\n",
    "    print(f\"Arquivo {num}: {arquivo}\")"
   ]
  },
  {
   "cell_type": "code",
   "execution_count": 13,
   "metadata": {},
   "outputs": [
    {
     "name": "stdout",
     "output_type": "stream",
     "text": [
      "['lena_monocromatica.jpg', 'Convolucao_Imagens.png', 'lena_blue.jpg', 'ballVideo.mp4', 'unbeatables_logo.png', 'lena_green.jpg', 'color_balls2.png', 'rgbExample.png', 'RGB_color_solid_cube.png', 'HSV.png', 'unbeatables_merged.jpg', 'ballDetect.py', 'camposVisao.png', 'lena_merged.jpg', 'teste.png', 'imgZeros.png', 'lena.png', 'imgGray.png', 'lena_red.jpg', 'color_balls.png', 'lena_noisy.jpeg', 'HSL.png', 'unbeatables_red.jpg', 'robo.jpg', 'cubo_RGB.png', 'unbeatables_blue.jpg', 'grayExample.png', 'desafio.png', 'lena.jpg', 'unbeatables_green.jpg']\n"
     ]
    }
   ],
   "source": [
    "# Verificando o contéudo da nossa pasta assets\n",
    "if not os.listdir('../assets/'): # verifica se a pasta está vazia\n",
    "    print(\"Pasta vazia!\")\n",
    "else:\n",
    "    print(os.listdir('../assets/'))"
   ]
  },
  {
   "cell_type": "markdown",
   "metadata": {},
   "source": [
    "## **O que é visão computacional?**\n",
    "\n",
    "*\"A visão computacional é um campo da inteligência artificial (IA) que permite que computadores e sistemas obtenham informações significativas de imagens digitais, vídeos e outras entradas visuais — e tomem ações ou façam recomendações com base nessas informações. Se a IA permite que os computadores pensem, a visão computacional permite que eles vejam, observem e entendam.\"* [site da IBM](https://www.ibm.com/).\n",
    "\n",
    "*\"A visão computacional é um campo da ciência da computação que se concentra em permitir que computadores identifiquem e entendam objetos e pessoas em imagens e vídeos. Como outros tipos de IA, a visão computacional busca executar e automatizar tarefas que replicam as capacidades humanas. Nesse caso, a visão computacional busca replicar tanto a maneira como os humanos veem quanto a maneira como os humanos dão sentido ao que veem.\"* [Microsoft](https://www.ibm.com/)\n",
    "\n",
    "Portanto, a visão computacional é o campo da ciência que faz com que máquinas possam enxergar e interpretar objetos, pessoas em imagens e videos.\n",
    "\n",
    "![Campos da Visão](../assets/camposVisao.png)\n",
    "\n",
    "\n",
    "## **OpenCV**\n",
    "\n",
    "![opencv](../assets/opencv.png)\n",
    "\n",
    "OpenCV (Open Source Computer Vision) é uma biblioteca de programação, de código aberto, desenvolvida inicialmente pela Intel com o objetivo de tornar a visão computacional mais acessível a desenvolvedores. \n",
    "\n",
    "Atualmente possui mais de 500 funções e pode ser usada em diversas linguagens de programação (Python, C++, Java...) e é usada em diversos tipos de análise em imagens e vídeos, como detecção, tracking e reconhecimento facial, edição de fotos, vídeos, etc.\n",
    "\n",
    "\n",
    "## **Imagem Digital**\n",
    "\n",
    "**Uma imagem digital(2D) é geralmente representada em termos de duas dimensões:** largura e altura. Dessa forma, cada pixel na imagem é identificado por sua posição nessas duas dimensões.\n",
    "\n",
    "No entanto, a representação de cores em uma imagem adiciona uma terceira dimensão, que é a dimensão da cor. Isso resulta em uma imagem colorida, onde cada pixel possui informações de cor. A dimensão de cor pode ser representada de diferentes maneiras, sendo as mais comuns:\n",
    "\n",
    "**Imagem em Escala de Cinza (Monocromática):** Nesse caso, cada pixel possui apenas um valor que representa a intensidade de brilho, variando de preto (0) a branco (255). A imagem é, portanto, uma matriz 2D de valores de intensidade.\n",
    "\n",
    "**$$f(x,y) = (L_{1})$$**\n",
    "\n",
    "$L_{min}$ e $L_{max}$: Variando de 0 até 255 - (8 bits na banda)\n",
    "\n",
    "![imagemCinza](../assets/imgGrayExample.jpg)\n",
    "\n",
    "**Imagem Colorida:** Para imagens coloridas, cada pixel possui três valores de cor: vermelho (R), verde (G) e azul (B), ou seja, cada pixel é uma combinação dessas três cores primárias. Essa representação é comum e é chamada de espaço de cores RGB. Cada canal de cor representa uma dimensão adicional na imagem.\n",
    "\n",
    "**Portanto, para uma imagem colorida, você teria três dimensões:** largura, altura e canais de cor (geralmente vermelho, verde e azul), tornando-a uma imagem 3D. Em termos de matrizes, isso seria representado como uma matriz 3D, onde cada elemento da matriz contém um vetor de três valores de cor\n",
    "\n",
    "**$$f(x,y) = (L_{1}, L_{2}, L_{3})$$**\n",
    "\n",
    "$L_{min}$ e $L_{max}$: Variando de 0 até 255 - 3x(8 bits por banda)\n",
    "\n",
    "\n",
    "<img src=\"../assets/rgbExample.png\" width=\"600\">\n",
    "\n",
    "\n",
    "## **Espaço de Cores RGB**\n",
    "\n",
    "O espaço de cores RGB é um modelo de cores que é amplamente utilizado na representação de imagens digitais. Ele é baseado na combinação de três cores primárias: vermelho, verde e azul. Cada pixel em uma imagem RGB é representado por três valores numéricos que indicam a intensidade de cada uma dessas cores. Esses valores variam de 0 a 255, o que significa que existem 256 níveis de intensidade para cada cor. Ao combinar essas três cores primárias em diferentes proporções, podemos criar uma ampla variedade de cores.\n",
    "\n",
    "<img src=\"../assets/RGB_color_solid_cube.png\" width=\"300\">\n",
    "\n",
    "O espaço de cores RGB é usado em muitos dispositivos eletrônicos, como monitores de computador, câmeras digitais e scanners. Ele também é usado em muitos softwares de edição de imagem, como o Adobe Photoshop e o GIMP.\n",
    "\n",
    "### **Compreendendo os canais de cores** \n",
    "\n",
    "<!-- <img src=\"../assets/lena.jpg\"> --> \n",
    "<!-- Achei melhor usar da UnBeatables -->\n",
    "\n",
    "<img src=\"../assets/unbeatables_logo.png\" width = 300>\n",
    "\n",
    "\n",
    "Agora sabendo o que é uma imagem colorida, imagine-a como um quebra-cabeça composto por três partes fundamentais: os canais de cores RGB. Ao separar os canais, é possível perceber como cada um contribui para a aparência da imagem. O canal vermelho enfatiza as áreas da imagem com vermelho predominante, o canal verde destaca os verdes e o canal azul realça os azuis.\n",
    "\n",
    "Sabendo que cada canal contribui com sua intensidade e matiz específicas, ao combinar novamente os canais RGB, forma-se a imagem colorida original. \n",
    "\n",
    "Entender como esses canais funcionam é muito importante para edição e processamento de imagens em diversos contextos.\n"
   ]
  },
  {
   "cell_type": "code",
   "execution_count": 2,
   "metadata": {},
   "outputs": [
    {
     "data": {
      "text/plain": [
       "array([[0., 0., 0., ..., 0., 0., 0.],\n",
       "       [0., 0., 0., ..., 0., 0., 0.],\n",
       "       [0., 0., 0., ..., 0., 0., 0.],\n",
       "       ...,\n",
       "       [0., 0., 0., ..., 0., 0., 0.],\n",
       "       [0., 0., 0., ..., 0., 0., 0.],\n",
       "       [0., 0., 0., ..., 0., 0., 0.]])"
      ]
     },
     "execution_count": 2,
     "metadata": {},
     "output_type": "execute_result"
    }
   ],
   "source": [
    "import numpy as np\n",
    "\n",
    "# Definindo a largura e a altura\n",
    "x = 640 # Comprimento\n",
    "y = 480 # Altura\n",
    "\n",
    "# Alocando memoria\n",
    "\n",
    "imgGray = np.zeros((y,x))\n",
    "imgGray"
   ]
  },
  {
   "cell_type": "code",
   "execution_count": 3,
   "metadata": {},
   "outputs": [
    {
     "name": "stdout",
     "output_type": "stream",
     "text": [
      "O tipo do meu objeto é:  <class 'numpy.ndarray'> \n",
      "\n"
     ]
    }
   ],
   "source": [
    "# Imprimindo o tipo\n",
    "print(\"O tipo do meu objeto é: \", type(imgGray),\"\\n\")"
   ]
  },
  {
   "cell_type": "code",
   "execution_count": 4,
   "metadata": {},
   "outputs": [
    {
     "data": {
      "text/plain": [
       "(480, 640)"
      ]
     },
     "execution_count": 4,
     "metadata": {},
     "output_type": "execute_result"
    }
   ],
   "source": [
    "# Dimensões\n",
    "imgGray.shape"
   ]
  },
  {
   "cell_type": "code",
   "execution_count": 5,
   "metadata": {},
   "outputs": [],
   "source": [
    "# Acessando pelo index as dimensões\n",
    "altura = imgGray.shape[0] # y (quantidade de colunas)\n",
    "largura = imgGray.shape[1]  # x (quantidade de linhas)"
   ]
  },
  {
   "cell_type": "code",
   "execution_count": 6,
   "metadata": {},
   "outputs": [
    {
     "name": "stdout",
     "output_type": "stream",
     "text": [
      "As dimensões da minha imagem matriz são:\n",
      "Largura = 640\n",
      "Altura = 480\n"
     ]
    }
   ],
   "source": [
    "# Verificando...\n",
    "print(\"As dimensões da minha imagem matriz são:\")\n",
    "print(\"Largura =\", largura)\n",
    "print(\"Altura =\", altura)"
   ]
  },
  {
   "cell_type": "code",
   "execution_count": 9,
   "metadata": {},
   "outputs": [
    {
     "data": {
      "text/plain": [
       "True"
      ]
     },
     "execution_count": 9,
     "metadata": {},
     "output_type": "execute_result"
    }
   ],
   "source": [
    "# Salvando nossa imagem\n",
    "cv.imwrite('../assets/imgZeros.png', imgGray)"
   ]
  },
  {
   "cell_type": "code",
   "execution_count": 10,
   "metadata": {},
   "outputs": [
    {
     "data": {
      "text/plain": [
       "dtype('float64')"
      ]
     },
     "execution_count": 10,
     "metadata": {},
     "output_type": "execute_result"
    }
   ],
   "source": [
    "# Tipo dos elementos da nossa matriz\n",
    "imgGray.dtype"
   ]
  },
  {
   "cell_type": "code",
   "execution_count": 11,
   "metadata": {},
   "outputs": [
    {
     "data": {
      "text/plain": [
       "array([[0., 0., 0., ..., 0., 0., 0.],\n",
       "       [0., 0., 0., ..., 0., 0., 0.],\n",
       "       [0., 0., 0., ..., 0., 0., 0.],\n",
       "       ...,\n",
       "       [0., 0., 0., ..., 0., 0., 0.],\n",
       "       [0., 0., 0., ..., 0., 0., 0.],\n",
       "       [0., 0., 0., ..., 0., 0., 0.]])"
      ]
     },
     "execution_count": 11,
     "metadata": {},
     "output_type": "execute_result"
    }
   ],
   "source": [
    "# Dando novamente uma olhada na estrutura da matrix\n",
    "imgGray"
   ]
  },
  {
   "cell_type": "code",
   "execution_count": 12,
   "metadata": {},
   "outputs": [
    {
     "data": {
      "text/plain": [
       "dtype('uint8')"
      ]
     },
     "execution_count": 12,
     "metadata": {},
     "output_type": "execute_result"
    }
   ],
   "source": [
    "# Convertendo o tipo para inteiros de 0 à 255 (8 bits ou 1 byte)\n",
    "imgGray = imgGray.astype(np.uint8)\n",
    "imgGray.dtype"
   ]
  },
  {
   "cell_type": "code",
   "execution_count": 13,
   "metadata": {},
   "outputs": [
    {
     "data": {
      "text/plain": [
       "array([[0, 0, 0, ..., 0, 0, 0],\n",
       "       [0, 0, 0, ..., 0, 0, 0],\n",
       "       [0, 0, 0, ..., 0, 0, 0],\n",
       "       ...,\n",
       "       [0, 0, 0, ..., 0, 0, 0],\n",
       "       [0, 0, 0, ..., 0, 0, 0],\n",
       "       [0, 0, 0, ..., 0, 0, 0]], dtype=uint8)"
      ]
     },
     "execution_count": 13,
     "metadata": {},
     "output_type": "execute_result"
    }
   ],
   "source": [
    "# Verificando...\n",
    "imgGray"
   ]
  },
  {
   "cell_type": "code",
   "execution_count": 14,
   "metadata": {},
   "outputs": [
    {
     "name": "stderr",
     "output_type": "stream",
     "text": [
      "qt.qpa.plugin: Could not find the Qt platform plugin \"wayland\" in \"/home/luiz/.pyenv/versions/3.11.3/envs/dev/lib/python3.11/site-packages/cv2/qt/plugins\"\n"
     ]
    }
   ],
   "source": [
    "# Exibindo nossa imagem usando o OpenCV\n",
    "cv.imshow(\"Minha primeira imagem digital\", imgGray)\n",
    "cv.waitKey(0)\n",
    "cv.destroyAllWindows()"
   ]
  },
  {
   "cell_type": "code",
   "execution_count": 15,
   "metadata": {},
   "outputs": [
    {
     "data": {
      "text/plain": [
       "True"
      ]
     },
     "execution_count": 15,
     "metadata": {},
     "output_type": "execute_result"
    }
   ],
   "source": [
    "# Mudando as cores de nossa imagem\n",
    "for linha in range(imgGray.shape[0]):\n",
    "    for coluna in range(imgGray.shape[1]):\n",
    "        if linha <= 320:\n",
    "            imgGray[linha][coluna] = 255\n",
    "        else:\n",
    "            imgGray[linha][coluna] = 0\n",
    "cv.imwrite('../assets/imgGray.png', imgGray)"
   ]
  },
  {
   "cell_type": "code",
   "execution_count": 16,
   "metadata": {},
   "outputs": [],
   "source": [
    "# Exibindo nossa imagem usando o OpenCV\n",
    "cv.imshow(\"Minha primeira imagem digital\", imgGray)\n",
    "cv.waitKey(0)\n",
    "cv.destroyAllWindows()"
   ]
  },
  {
   "cell_type": "markdown",
   "metadata": {},
   "source": [
    "### Criando figuras geométricas nas imagens"
   ]
  },
  {
   "cell_type": "markdown",
   "metadata": {},
   "source": [
    "### Reta"
   ]
  },
  {
   "cell_type": "code",
   "execution_count": 19,
   "metadata": {},
   "outputs": [],
   "source": [
    "imagem = np.zeros((480, 480)).astype(np.uint8)\n",
    "\n",
    "x1, y1 = 0, 0\n",
    "x2, y2 = 480, 480\n",
    "\n",
    "cor = 255\n",
    "\n",
    "imagem_com_linha = cv.line(imagem, (x1, y1), (x2, y2), cor, thickness=2)\n",
    "\n",
    "cv.imshow(\"Reta Desenhada\", imagem_com_linha)\n",
    "cv.waitKey(0)\n",
    "cv.destroyAllWindows()"
   ]
  },
  {
   "cell_type": "markdown",
   "metadata": {},
   "source": [
    "### Circulo"
   ]
  },
  {
   "cell_type": "code",
   "execution_count": 22,
   "metadata": {},
   "outputs": [],
   "source": [
    "imagem = np.zeros((480, 480)).astype(np.uint8)\n",
    "\n",
    "x0 = int(imagem.shape[1]/2)\n",
    "y0 = int(imagem.shape[0]/2)\n",
    "raio = 50\n",
    "\n",
    "imagem_com_circulo = cv.circle(imagem, (x0, y0), raio, 255, thickness=2)\n",
    "\n",
    "cv.imshow(\"Circulo\", imagem_com_circulo)\n",
    "cv.waitKey(0)\n",
    "cv.destroyAllWindows()"
   ]
  },
  {
   "cell_type": "markdown",
   "metadata": {},
   "source": [
    "### Retangulo"
   ]
  },
  {
   "cell_type": "code",
   "execution_count": 26,
   "metadata": {},
   "outputs": [],
   "source": [
    "imagem = np.zeros((480, 480)).astype(np.uint8)\n",
    "\n",
    "x1, y1 = 40, 40\n",
    "x2, y2 = int(imagem.shape[1] - x1) , int(imgGray.shape[0] - y1)\n",
    "\n",
    "cor = 255\n",
    "\n",
    "imagem_com_quadrado = cv.rectangle(imagem, (x1, x1), (x2, y2), 255, 2)\n",
    "\n",
    "cv.imwrite(\"../assets/imagem_com_quadrado.png\", imagem_com_quadrado)\n",
    "\n",
    "cv.imshow(\"Quadrado.png\", imagem_com_quadrado)\n",
    "cv.waitKey(0)\n",
    "cv.destroyAllWindows()"
   ]
  },
  {
   "cell_type": "markdown",
   "metadata": {},
   "source": [
    "**Desafio**: Faça o simbolo do jogo da velha em uma imagem com fundo preto e as linhas na cor branca"
   ]
  },
  {
   "cell_type": "code",
   "execution_count": null,
   "metadata": {},
   "outputs": [],
   "source": [
    "# Faça seu código aqui"
   ]
  },
  {
   "cell_type": "markdown",
   "metadata": {},
   "source": [
    "### Como abrir imagens"
   ]
  },
  {
   "cell_type": "code",
   "execution_count": 27,
   "metadata": {},
   "outputs": [],
   "source": [
    "img = cv.imread(\"../assets/imagem_com_quadrado.png\")\n",
    "cv.imshow(\"Minha imagem\", img)\n",
    "cv.waitKey(0)\n",
    "cv.destroyAllWindows()"
   ]
  },
  {
   "cell_type": "code",
   "execution_count": 28,
   "metadata": {},
   "outputs": [
    {
     "name": "stderr",
     "output_type": "stream",
     "text": [
      "2023-09-25 14:10:07 URL:https://upload.wikimedia.org/wikipedia/en/7/7d/Lenna_%28test_image%29.png [473831/473831] -> \"../assets/lena.png\" [1]\n"
     ]
    },
    {
     "data": {
      "text/plain": [
       "0"
      ]
     },
     "execution_count": 28,
     "metadata": {},
     "output_type": "execute_result"
    }
   ],
   "source": [
    "# Baixando uma imagem RGB\n",
    "comando = \"wget -nv -O ../assets/lena.png https://upload.wikimedia.org/wikipedia/en/7/7d/Lenna_%28test_image%29.png\"\n",
    "os.system(comando)"
   ]
  },
  {
   "cell_type": "code",
   "execution_count": 29,
   "metadata": {},
   "outputs": [
    {
     "data": {
      "text/plain": [
       "['lena_monocromatica.jpg',\n",
       " 'Convolucao_Imagens.png',\n",
       " 'lena_blue.jpg',\n",
       " 'opencv.png',\n",
       " 'ballVideo.mp4',\n",
       " 'unbeatables_logo.png',\n",
       " 'lena_green.jpg',\n",
       " 'color_balls2.png',\n",
       " 'rgbExample.png',\n",
       " 'imgGrayExample.jpg',\n",
       " 'RGB_color_solid_cube.png',\n",
       " 'HSV.png',\n",
       " 'unbeatables_merged.jpg',\n",
       " 'ballDetect.py',\n",
       " 'camposVisao.png',\n",
       " 'lena_merged.jpg',\n",
       " 'teste.png',\n",
       " 'imgZeros.png',\n",
       " 'lena.png',\n",
       " 'imgGray.png',\n",
       " 'lena_red.jpg',\n",
       " 'color_balls.png',\n",
       " 'lena_noisy.jpeg',\n",
       " 'HSL.png',\n",
       " 'unbeatables_red.jpg',\n",
       " 'robo.jpg',\n",
       " 'imagem_com_quadrado.png',\n",
       " 'cubo_RGB.png',\n",
       " 'unbeatables_blue.jpg',\n",
       " 'grayExample.png',\n",
       " 'desafio.png',\n",
       " 'lena.jpg',\n",
       " 'unbeatables_green.jpg']"
      ]
     },
     "execution_count": 29,
     "metadata": {},
     "output_type": "execute_result"
    }
   ],
   "source": [
    "os.listdir('../assets/')"
   ]
  },
  {
   "cell_type": "markdown",
   "metadata": {},
   "source": [
    "**Atividade 1:** Usando os comandos anteriores obtenha a largura e o comprimento da imagem baixada. Lembre-se que o arquivo baixado está na pasta ../assets. "
   ]
  },
  {
   "cell_type": "code",
   "execution_count": null,
   "metadata": {},
   "outputs": [],
   "source": [
    "# Escreva seu código aqui:"
   ]
  },
  {
   "cell_type": "code",
   "execution_count": 30,
   "metadata": {},
   "outputs": [],
   "source": [
    "# Abrindo um video\n",
    "\n",
    "# Cria um objeto videoCapture\n",
    "video = cv.VideoCapture(\"../assets/ballVideo.mp4\")\n",
    "\n",
    "while True:\n",
    "    \n",
    "    ret, frame = video.read()\n",
    "    \n",
    "    if not ret:\n",
    "        break\n",
    "    cv.imshow('Video', frame)\n",
    "\n",
    "    # Pressione 'q' para sair do loop\n",
    "    \n",
    "    # 0111 0001\n",
    "    #     and\n",
    "    # 1111 1111\n",
    "    # 0111 0001 se é igual a 0111 0001 \n",
    "    # Aplicando a máscara é garantido que peguemos apenos os 8 bits menos significativos\n",
    "    \n",
    "    if cv.waitKey(33) & 0xFF == ord('q'):\n",
    "        break\n",
    "\n",
    "# Libera os recursos\n",
    "video.release()\n",
    "cv.destroyAllWindows()\n",
    "    "
   ]
  },
  {
   "cell_type": "markdown",
   "metadata": {},
   "source": [
    "### Compreendendo os canais de cores \n",
    "\n",
    "<!-- <img src=\"../assets/lena.jpg\"> --> \n",
    "<!-- Achei melhor usar da UnBeatables -->\n",
    "\n",
    "<img src=\"../assets/unbeatables_logo.png\" width = 300>\n",
    "\n",
    "\n",
    "Agora sabendo o que é uma imagem colorida, imagine-a como um quebra-cabeça composto por três partes fundamentais: os canais de cores RGB. Ao separar os canais, é possível perceber como cada um contribui para a aparência da imagem. O canal vermelho enfatiza as áreas da imagem com vermelho predominante, o canal verde destaca os verdes e o canal azul realça os azuis.\n",
    "\n",
    "Sabendo que cada canal contribui com sua intensidade e matiz específicas, ao combinar novamente os canais RGB, forma-se a imagem colorida original. \n",
    "\n",
    "Entender como esses canais funcionam é muito importante para edição e processamento de imagens em diversos contextos."
   ]
  },
  {
   "cell_type": "code",
   "execution_count": 33,
   "metadata": {},
   "outputs": [],
   "source": [
    "# Esse codigo e para dividir uma imagem colorida em seus 3 canais (B, G e R) de forma individual\n",
    "# E para compreender os diferentes canais de cores e como eles contribuem para a composição da imagem colorida final\n",
    "# Carregar a imagem colorida\n",
    "image_color = cv.imread('../assets/lena.jpg')\n",
    "#image_color = cv.imread('../assets/unbeatables_logo.png')      # Com a logo da UnBeatables ficou melhor de visualizar\n",
    "\n",
    "# Criar imagem em 3 canais de cores (BGR)\n",
    "image_blue = image_color[:, :, 0]         # Seleciona todas as linhas, todas as colunas e o canal desejado da matriz\n",
    "image_green = image_color[:, :, 1]\n",
    "image_red = image_color[:, :, 2]\n",
    "\n",
    "# Salvar as imagens no espaço B, G e R\n",
    "# Lena\n",
    "cv.imwrite('../assets/lena_blue.jpg', image_blue)\n",
    "cv.imwrite('../assets/lena_green.jpg', image_green)\n",
    "cv.imwrite('../assets/lena_red.jpg', image_red)\n",
    "\n",
    "# UnBeatables\n",
    "# cv.imwrite('../assets/unbeatables_blue.jpg', image_blue)\n",
    "# cv.imwrite('../assets/unbeatables_green.jpg', image_green)\n",
    "# cv.imwrite('../assets/unbeatables_red.jpg', image_red)\n",
    "\n",
    "# Visualizar as imagens no espaço B, G e R\n",
    "# Lena\n",
    "cv.imshow('../assets/lena_blue.jpg', image_blue)\n",
    "cv.imshow('../assets/lena_green.jpg', image_green)\n",
    "cv.imshow('../assets/lena_red.jpg', image_red)\n",
    "\n",
    "# # UnBeatables\n",
    "# cv.imshow('../assets/unbeatables_blue.jpg', image_blue)\n",
    "# cv.imshow('../assets/unbeatables_green.jpg', image_green)\n",
    "# cv.imshow('../assets/unbeatables_red.jpg', image_red)\n",
    "\n",
    "# Resultado da combinaçao dos canais de cores individuais em uma unica imagem colorida\n",
    "image_merged = cv.merge((image_blue, image_green, image_red))\n",
    "\n",
    "# Lena\n",
    "cv.imwrite('../assets/lena_merged.jpg', image_merged)\n",
    "cv.imshow('../assets/lena_merged.jpg', image_merged)\n",
    "\n",
    "# UnBeatables\n",
    "# cv.imwrite('../assets/unbeatables_merged.jpg', image_merged)\n",
    "# cv.imshow('../assets/unbeatables_merged.jpg', image_merged)\n",
    "\n",
    "cv.waitKey(0)\n",
    "cv.destroyAllWindows()"
   ]
  },
  {
   "cell_type": "markdown",
   "metadata": {},
   "source": [
    "## **Parte 3: Filtros e Remoção Ruído** <Fernanda>\n",
    "\n",
    "As aplicações de filtros e remoção de ruídos em processamento de imagens são técnicas fundamentais para melhorar a qualidade das imagens, realçar características importantes e tornar a análise de imagens mais precisas. \n",
    "\n",
    "Para aprender o que é um filtro, é essencial primeiro entender como é sua implementação. Para isso, é preciso compreender o conceito de **convolução em imagens**.\n",
    "\n",
    "A convolução é uma operação básica no processamento de imagens, utilizada para aplicar filtros em uma imagem. Um filtro, muitas vezes chamado de \"kernel\", é uma matriz pequena que é deslizada sobre a imagem original, multiplicando os valores dos pixels da imagem pelos valores correspondentes do filtro e somando o resultado. Esse valor resultante é atribuído a um novo pixel na imagem de saída. A convolução ajuda a realçar características específicas da imagem, como bordas, texturas, entre outros.\n",
    "\n",
    "**Exemplo**:\n",
    "\n",
    "<img src=\"../assets/Convolucao_Imagens.png\" width=\"400\">\n",
    "\n",
    "Nesse exemplo é possível ver uma limitação da convolução que é o tratamento das bordas da imagem. A limitação no tratamento das bordas ocorre porque, para calcular os elementos do output, é necessário que o kernel se sobreponha completamente à imagem. Nas extremidades da imagem, onde o kernel não pode se sobrepor completamente, a convolução não é calculada. Isso resulta em uma saída menor do que a imagem original, deixando de considerar as bordas da imagem.\n",
    "\n",
    "Geralmente as funções de processamento de imagem, conseguem lidar com essa limitação e gerar um output do mesmo tamanho do input. Nesse exemplo, técnicas como preenchimento de borda (padding) podem ser usadas para estender a imagem, permitindo que o kernel se sobreponha completamente, resultando em um output do mesmo tamanho que a imagem original. O preenchimento pode ser feito replicando os valores das bordas da imagem ou usando outros métodos adequados.\n",
    "\n",
    "Visto a teoria, vamos para a prática dos filtros de suavização. O primeiro filtro que iremos aplicar é o filtro **blur**, que é uma das formas de retirar ruídos de uma imagem. Em resumo, o filtro blur, utilizando um kernel, realiza uma média aritmética dos valores dos pixels na vizinhança, onde cada pixel contribui igualmente para o cálculo da média. É uma média simples dos valores dos pixels vizinhos.\n",
    "\n",
    "Outro tipo de filtro de suavização que vamos aplicar é o **GaussianBlur**, que se difere do blur por causa do kernel. Em reusmo, o Gaussian Blur, utilizando um kernel gaussiano (onde os pesos dos pixels seguem uma função gaussiana), aplica uma média ponderada dos pixels vizinhos, onde os pixels mais próximos ao centro do kernel têm uma contribuição maior, criando o efeito de suavização na imagem.\n",
    "\n",
    "- Link para auxiliar no uso das funções do OpenCV: https://docs.opencv.org/3.4/d4/d86/group__imgproc__filter.html\n",
    "\n",
    "- Link para visualizar kernel dos filtros de suavização: https://www.opencv-srf.com/2018/01/filter-images-and-videos.html"
   ]
  },
  {
   "cell_type": "code",
   "execution_count": 34,
   "metadata": {},
   "outputs": [],
   "source": [
    "image = cv.imread(\"../assets/lena_noisy.jpeg\")\n",
    "\n",
    "# Filtro Blur\n",
    "# image_blur1 = cv.blur(image, (3,3))      # Recebe como argumento a imagem e o tamanho de kernel e retorna a imagem borrada\n",
    "\n",
    "# Que diferença faz o tamanho do kernel?\n",
    "image_blur = cv.blur(image, (7,7))     # Vantagens e desvantagens: Reduz ruído mas reduz nitidez e qualidade\n",
    "\n",
    "# Filtro GaussianBlur\n",
    "# Recebe 3 argumentos obrigatórios: imagem, tamanho de kernel e desvio padrão (sigmaX e sigmaY)\n",
    "# O desvio padrão controla a largura da curva da função gaussiana. Quanto maior o desvio padrão, mais larga é a função gaussiana, o que resulta em uma ponderação mais suave dos pixels vizinhos.\n",
    "# Se utilizar sigma = 0, o OpenCV calcula o sigma automaticamente com base no tamanho do kernel\n",
    "\n",
    "image_Gaussian = cv.GaussianBlur(image, (7,7), 0)  # Perde menos detalhes que somente o blur\n",
    "\n",
    "cv.imshow(\"Original\", image)\n",
    "# cv.imshow(\"Blur\", image_blur1)\n",
    "cv.imshow(\"Blur\", image_blur)\n",
    "cv.imshow(\"Gaussian Blur\", image_Gaussian)\n",
    "\n",
    "cv.waitKey(0)\n",
    "cv.destroyAllWindows()"
   ]
  },
  {
   "cell_type": "markdown",
   "metadata": {},
   "source": [
    "## **Parte 4: Máscaras em espaços de cores** <Fernanda>\n",
    "\n",
    "Vamos relembrar o que é uma imagem. Uma imagem é uma matriz de pixel e o pixel é um vetor que guarda informação de cor do pontinho da imagem, a gente sabe que em uma imagem em formato RGB, cada pixel possui 3 valores correspondentes às intensidades de vermelho, verde e azul. Pode-se interpretar o formato RGB como um cubo, em que os canais são eixos ortogonais. \n",
    "\n",
    "<!-- Falar sobre ponto da origem, o oposto e os diversos valores para diversas cores e tons -->\n",
    "\n",
    "<img src=\"../assets/cubo_RGB.png\" width = 250>\n",
    "\n",
    "- Link da documentação para auxiliar no código de segmentação RGB:\n",
    "    - https://docs.opencv.org/3.4/d2/df8/group__core__c.html#ga88fd8c24f2a348f8282ccc237c445518"
   ]
  },
  {
   "cell_type": "code",
   "execution_count": 35,
   "metadata": {},
   "outputs": [],
   "source": [
    "# Código que segmenta as cores quando a imagem está no formato RGB\n",
    "\n",
    "image = cv.imread(\"../assets/color_balls.png\")\n",
    "\n",
    "# Função inRange que recebe 3 argumentos (imagem, lowerb, upperb) \n",
    "# Arrays que delimitam o intervalo de valores RGB que serão selecionados para a máscara de cor\n",
    "# Formato BGR\n",
    "\n",
    "mask_red = cv.inRange(image, (0, 0, 200), (60, 60, 255))   # Segmentar o vermelho\n",
    "# mask_blue = cv.inRange(image, (200, 0, 0), (255, 60, 60))   # Segmentar o azul\n",
    "# mask_green = cv.inRange(image, (0, 200, 0), (60, 255, 60))   # Segmentar o verde\n",
    "# mask_yellow = cv.inRange(image, (0, 200, 200), (60, 255, 255))   # Segmentar o amarelo (ver na imagem do cubo - alta intensidade de vermelho e verde)\n",
    "\n",
    "cv.imshow(\"Mascara vermelho\", mask_red)\n",
    "# cv.imshow(\"Mascara azul\", mask_blue)\n",
    "# cv.imshow(\"Mascara verde\", mask_green)\n",
    "# cv.imshow(\"Mascara verde\", mask_yellow)\n",
    "\n",
    "cv.waitKey(0)\n",
    "cv.destroyAllWindows()"
   ]
  },
  {
   "cell_type": "markdown",
   "metadata": {},
   "source": [
    "<!-- Mostrar que não funciona com os valores definidos para o espaço RGB -->\n",
    "O intervalo RGB as vezes não é tão bom para selecionar tons de cores, como é possível ver na imagem do cubo, existe uma fronteira indefinida do que pode ser verde e a função inRange tem uma limitação de cortar o espaço sempre em um paralelepípedo dentro do cubo, então se um paralelepípedo for muito grande pode selecionar cores a mais e se for muito pequeno, ele pode deixar de selecionar os tons desejados. \n",
    "\n",
    "Para tentar contornar eses problemas, foram criados outros espaços de cores como o HSL e o HSV. Ambos espaços de cores podem ser interpretados como cilindros. O HSV possui parâmetros \"Hue\": que é a matiz da cor (vermelho, azul, verde...) e é formado por um disco em que um ângulo determina a cor desejada. Possui também o \"Saturation\" e o \"Value\" que siginifica o brilho.\n",
    "\n",
    "O espaço HSL é parecido com o HSV. O que altera é que ao invés de possuir o canal \"Value\", ele possui o canal \"Lightness\", de luminosidade. Então se não existe a preocupação se o verde é claro, escuro e sim em segmentar vários tons de verde, é interessante usar um desses canais.\n",
    "\n",
    "<img src=\"../assets/HSV.png\" width = 250>\n",
    "<img src=\"../assets/HSL.png\" width = 250>\n",
    "\n",
    "- Link da documentação para auxiliar no código de segmentação HSV:\n",
    "    - https://docs.opencv.org/3.4/d8/d01/group__imgproc__color__conversions.html#ga397ae87e1288a81d2363b61574eb8cab"
   ]
  },
  {
   "cell_type": "code",
   "execution_count": 37,
   "metadata": {},
   "outputs": [],
   "source": [
    "image = cv.imread(\"../assets/color_balls2.png\")\n",
    "\n",
    "# Mostrar que não funciona com os valores definidos para o espaço RGB\n",
    "# mask_green = cv.inRange(image, (0, 200, 0), (60, 255, 60)) # Nao funciona\n",
    "# cv.imshow(\"Mascara verde\", mask_green)\n",
    "\n",
    "# Mudar o espaço de cor usando cvtColor() -> Recebe 2 argumentos: source e code (imagem, qual conversao fazer)\n",
    "# Usar o HSV pois nesse caso deseja segmentar a matiz e não importa o tom e saturação. \n",
    "\n",
    "image_hsv = cv.cvtColor(image, cv.COLOR_BGR2HSV)      # Usar os canais HSV\n",
    "\n",
    "# Segmentar a matiz \n",
    "# Se olhar na tabela de cores opencv, o verde está entre os valores de H 35 a 75\n",
    "# Deixar o intervalo bem aberto, qualquer valor de saturação e brilho.\n",
    "mask_green = cv.inRange(image_hsv, (35, 0, 0), (75, 255, 255))\n",
    "\n",
    "# Mostrar que na imagem anterior funciona a segmentação do verde\n",
    "\n",
    "cv.imshow(\"Mascara verde\", mask_green)\n",
    "\n",
    "cv.waitKey(0)\n",
    "cv.destroyAllWindows()"
   ]
  },
  {
   "cell_type": "markdown",
   "metadata": {},
   "source": [
    "## Erosaõ e Dilatação"
   ]
  },
  {
   "cell_type": "markdown",
   "metadata": {},
   "source": [
    "## Desafio 1: Ligar todas as formas geometricas pelo centro geométrico\n",
    "\n",
    "Na imagem disponibilizada, tente detectar a cor e as formas das imagens, encontre o centro de cada imagem e desenhe uma linha ligando os centros. (Na hora de ligar, não precisa ligar todos os centros com todos os centros, ligue dois a dois)\n",
    "\n",
    "<img src=\"../assets/desafio.png\" width = 290>"
   ]
  },
  {
   "cell_type": "code",
   "execution_count": null,
   "metadata": {},
   "outputs": [],
   "source": [
    "import cv2\n",
    "\n",
    "img = cv2.imread(\"../assets/desafio.png\")\n",
    "# cv2.imshow(\"desafio\", img)\n",
    "\n",
    "img_hsv = cv2.cvtColor(img, cv2.COLOR_BGR2HSV)\n",
    "\n",
    "maskR = cv2.inRange(img_hsv, (1, 0, 0), (5, 255, 255))            # vermelho\n",
    "maskB = cv2.inRange(img_hsv, (90, 100, 100), (120, 255, 255))     # azul\n",
    "maskG = cv2.inRange(img_hsv, (35, 0, 0), (75, 255, 255))          # verde\n",
    "maskY = cv2.inRange(img_hsv, (20, 150, 150), (60, 255, 255))      # amarelo\n",
    "maskP = cv2.inRange(img_hsv, (0, 0, 0), (120, 255, 255))          # roxo\n",
    "maskO = cv2.inRange(img_hsv, (5, 150, 150), (15, 255, 255))       # laranja\n",
    "\n",
    "# Imagens binarias: \n",
    "# cv2.imshow(\"vermelho\", maskR)\n",
    "# cv2.imshow(\"azul\", maskB)\n",
    "# cv2.imshow(\"verde\", maskG)\n",
    "# cv2.imshow(\"amarelo\", maskY)\n",
    "# cv2.imshow(\"roxo\", maskP)\n",
    "# cv2.imshow(\"laranja\", maskO)\n",
    "\n",
    "# pegar apenas os pontos dos cantinhos da parte branca da imagem: \n",
    "contornoR, hierarquiaR = cv2.findContours(maskR, cv2.RETR_TREE, cv2.CHAIN_APPROX_SIMPLE)      # contorno vermelho\n",
    "contornoB, hierarquiaB = cv2.findContours(maskB, cv2.RETR_TREE, cv2.CHAIN_APPROX_SIMPLE)      # contorno azul\n",
    "contornoG, hierarquiaG = cv2.findContours(maskG, cv2.RETR_TREE, cv2.CHAIN_APPROX_SIMPLE)      # contorno verde\n",
    "contornoY, hierarquiaY = cv2.findContours(maskY, cv2.RETR_TREE, cv2.CHAIN_APPROX_SIMPLE)      # contorno amarelo\n",
    "contornoP, hierarquiaP = cv2.findContours(maskP, cv2.RETR_TREE, cv2.CHAIN_APPROX_SIMPLE)      # contorno roxo\n",
    "contornoO, hierarquiaO = cv2.findContours(maskO, cv2.RETR_TREE, cv2.CHAIN_APPROX_SIMPLE)      # contorno laranja\n",
    "\n",
    "# VERMELHO\n",
    "objR = contornoR[0]\n",
    "# cv2.drawContours(img, contornoR, 0, (0, 255, 0), 2)\n",
    "# BrancosR = 0\n",
    "# for i in range(maskR.shape[0]):         # calcular area real\n",
    "#     for j in range(maskR.shape[1]):\n",
    "#         if maskR[i][j] == 255:          # se for pixel branco soma +1\n",
    "#             BrancosR += 1\n",
    "# print(BrancosR)\n",
    "# areaR = cv2.contourArea(objR)           # area aproximada\n",
    "# print(areaR)\n",
    "momentoR = cv2.moments(objR)\n",
    "centroxR = int(momentoR[\"m10\"]/momentoR[\"m00\"])\n",
    "centroyR = int(momentoR[\"m01\"]/momentoR[\"m00\"])\n",
    "# cv2.circle(img, (centroxR, centroyR), 2, (0, 255, 0), 2)\n",
    "# cv2.imshow(\"Centro Vermelho\", img)\n",
    "\n",
    "# AZUL\n",
    "objB = contornoB[0]\n",
    "# cv2.drawContours(img, contornoB, 0, (0, 255, 0), 2)\n",
    "# BrancosB = 0\n",
    "# for i in range(maskB.shape[0]):         # calcular area real\n",
    "#     for j in range(maskB.shape[1]):\n",
    "#         if maskB[i][j] == 255:          # se for pixel branco soma +1\n",
    "#             BrancosB += 1\n",
    "# print(BrancosB)\n",
    "# areaB = cv2.contourArea(objB)           # area aproximada\n",
    "# print(areaB)\n",
    "momentoB = cv2.moments(objB)\n",
    "centroxB = int(momentoB[\"m10\"]/momentoB[\"m00\"])\n",
    "centroyB = int(momentoB[\"m01\"]/momentoB[\"m00\"])\n",
    "# cv2.circle(img, (centroxB, centroyB), 2, (0, 255, 0), 2)\n",
    "# cv2.imshow(\"Centro Azul\", img)\n",
    "\n",
    "# VERDE\n",
    "objG = contornoG[0]\n",
    "# cv2.drawContours(img, contornoG, 0, (0, 0, 255), 2)\n",
    "# BrancosG = 0\n",
    "# for i in range(maskG.shape[0]):         # calcular area real\n",
    "#     for j in range(maskG.shape[1]):\n",
    "#         if maskG[i][j] == 255:          # se for pixel branco soma +1\n",
    "#             BrancosG += 1\n",
    "# print(BrancosG)\n",
    "# areaG = cv2.contourArea(objG)           # area aproximada\n",
    "# print(areaG)\n",
    "momentoG = cv2.moments(objG)\n",
    "centroxG = int(momentoG[\"m10\"]/momentoG[\"m00\"])\n",
    "centroyG = int(momentoG[\"m01\"]/momentoG[\"m00\"])\n",
    "# cv2.circle(img, (centroxG, centroyG), 2, (0, 0, 255), 2)\n",
    "# cv2.imshow(\"Centro Verde\", img)\n",
    "\n",
    "\n",
    "# AMARELO\n",
    "objY = contornoY[0]\n",
    "# cv2.drawContours(img, contornoY, 0, (0, 255, 0), 2)\n",
    "# BrancosY = 0\n",
    "# for i in range(maskY.shape[0]):         # calcular area real\n",
    "#     for j in range(maskY.shape[1]):\n",
    "#         if maskY[i][j] == 255:          # se for pixel branco soma +1\n",
    "#             BrancosY += 1 \n",
    "# print(BrancosY)\n",
    "# areaY = cv2.contourArea(objY)           # area aproximada\n",
    "# print(areaY)\n",
    "momentoY = cv2.moments(objY)\n",
    "centroxY = int(momentoY[\"m10\"]/momentoY[\"m00\"])\n",
    "centroyY = int(momentoY[\"m01\"]/momentoY[\"m00\"])\n",
    "# cv2.circle(img, (centroxY, centroyY), 2, (0, 255, 0), 2)\n",
    "# cv2.imshow(\"Centro Amarelo\", img)\n",
    "\n",
    "# ROXO\n",
    "objP = contornoP[1]\n",
    "# cv2.drawContours(img, contornoP, 1, (0, 255, 0), 2)\n",
    "# BrancosP = 0\n",
    "# for i in range(maskP.shape[0]):         # calcular area real\n",
    "#     for j in range(maskP.shape[1]):\n",
    "#         if maskP[i][j] == 255:          # se for pixel branco soma +1\n",
    "#             BrancosP += 1           \n",
    "# print(BrancosP)\n",
    "# areaP = cv2.contourArea(objP)           # area aproximada\n",
    "# print(areaP)\n",
    "momentoP = cv2.moments(objP)\n",
    "centroxP = int(momentoP[\"m10\"]/momentoP[\"m00\"])\n",
    "centroyP = int(momentoP[\"m01\"]/momentoP[\"m00\"])\n",
    "# cv2.circle(img, (centroxP, centroyP), 2, (0, 255, 0), 2)\n",
    "# cv2.imshow(\"Centro Roxo\", img)\n",
    "\n",
    "#LARANJA\n",
    "objO = contornoO[0]\n",
    "# cv2.drawContours(img, contornoO, 0, (0, 255, 0), 2)\n",
    "# BrancosO = 0\n",
    "# for i in range(maskO.shape[0]):         # calcular area real\n",
    "#     for j in range(maskO.shape[1]):\n",
    "#         if maskO[i][j] == 255:          # se for pixel branco soma +1\n",
    "#             BrancosO += 1           \n",
    "# print(BrancosO)\n",
    "# areaO = cv2.contourArea(objO)           # area aproximada\n",
    "# print(areaO)\n",
    "momentoO = cv2.moments(objO)\n",
    "centroxO = int(momentoO[\"m10\"]/momentoO[\"m00\"])\n",
    "centroyO = int(momentoO[\"m01\"]/momentoO[\"m00\"])\n",
    "# cv2.circle(img, (centroxO, centroyO), 2, (0, 255, 0), 2)\n",
    "# cv2.imshow(\"Centro Laranja\", img)\n",
    "\n",
    "# LIGAR OS CENTROS DOIS A DOIS\n",
    "pR = (centroxR, centroyR)\n",
    "pY = (centroxY, centroyY)\n",
    "pB = (centroxB, centroyB)\n",
    "pP = (centroxP, centroyP)\n",
    "pG = (centroxG, centroyG)\n",
    "pO = (centroxO, centroyO)\n",
    "\n",
    "cv2.line(img, pR, pY, (255, 0, 255), 3)   # vermelho com amarelo\n",
    "cv2.line(img, pB, pP, (255, 0, 255), 3)   # azul com roxo\n",
    "cv2.line(img, pG, pO, (255, 0, 255), 3)   # verde com laranja\n",
    "\n",
    "cv2.imshow(\"Centros Ligados Dois a Dois\", img)\n",
    "\n",
    "# Ligando todos os pontos\n",
    "# cv2.line(img, pR, pB, (255, 0, 255), 3)\n",
    "# cv2.line(img, pB, pG, (255, 0, 255), 3)\n",
    "# cv2.line(img, pG, pO, (255, 0, 255), 3)\n",
    "# cv2.line(img, pO, pP, (255, 0, 255), 3)\n",
    "# cv2.line(img, pP, pY, (255, 0, 255), 3)\n",
    "# cv2.line(img, pY, pR, (255, 0, 255), 3)\n",
    "\n",
    "cv2.waitKey(0)\n",
    "cv2.destroyAllWindows()"
   ]
  },
  {
   "cell_type": "code",
   "execution_count": 38,
   "metadata": {},
   "outputs": [],
   "source": [
    "## Desafio 2: Detectar a bola no video\n"
   ]
  }
 ],
 "metadata": {
  "kernelspec": {
   "display_name": "dev",
   "language": "python",
   "name": "python3"
  },
  "language_info": {
   "codemirror_mode": {
    "name": "ipython",
    "version": 3
   },
   "file_extension": ".py",
   "mimetype": "text/x-python",
   "name": "python",
   "nbconvert_exporter": "python",
   "pygments_lexer": "ipython3",
   "version": "3.11.3"
  },
  "orig_nbformat": 4
 },
 "nbformat": 4,
 "nbformat_minor": 2
}
