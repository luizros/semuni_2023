{
 "cells": [
  {
   "cell_type": "markdown",
   "metadata": {},
   "source": [
    "# **Visão Computacional**"
   ]
  },
  {
   "cell_type": "markdown",
   "metadata": {},
   "source": [
    "## Comandos Básicos de Python"
   ]
  },
  {
   "cell_type": "code",
   "execution_count": 1,
   "metadata": {},
   "outputs": [],
   "source": [
    "# importanto os pacotes necessários para o treinamento\n",
    "import cv2 as cv \n",
    "import matplotlib.pyplot as plt\n",
    "import numpy as np\n",
    "import os "
   ]
  },
  {
   "cell_type": "code",
   "execution_count": 2,
   "metadata": {},
   "outputs": [
    {
     "name": "stdout",
     "output_type": "stream",
     "text": [
      "Hello World\n"
     ]
    }
   ],
   "source": [
    "# Imprindo uma váriavel \n",
    "print(\"Hello World\") "
   ]
  },
  {
   "cell_type": "code",
   "execution_count": 3,
   "metadata": {},
   "outputs": [
    {
     "name": "stdout",
     "output_type": "stream",
     "text": [
      "10\n",
      "5.1\n",
      "Olá Mundo\n"
     ]
    }
   ],
   "source": [
    "# Variaveis e tipos de dados\n",
    "\n",
    "a = 10 # váriavel do tipo inteira\n",
    "b = 5.1 # variavel do tipo float \n",
    "c = \"Olá Mundo\"  # variavel do tipo str \n",
    "print(a)\n",
    "print(b)\n",
    "print(c)"
   ]
  },
  {
   "cell_type": "code",
   "execution_count": 4,
   "metadata": {},
   "outputs": [
    {
     "name": "stdout",
     "output_type": "stream",
     "text": [
      "Tipo de a:  <class 'int'>\n",
      "Tipo de a:  <class 'float'>\n",
      "Tipo de a:  <class 'str'>\n"
     ]
    }
   ],
   "source": [
    "# Exemplo de print para verificar o tipo de nossas variáveis\n",
    "# Python é dinamicamente tipado, o que significa que você não precisa declarar explicitamente o tipo de variável.\n",
    "print(\"Tipo de a: \", type(a))\n",
    "print(\"Tipo de a: \", type(b))\n",
    "print(\"Tipo de a: \", type(c))"
   ]
  },
  {
   "cell_type": "code",
   "execution_count": 5,
   "metadata": {},
   "outputs": [],
   "source": [
    "# Exemplo mais elaborado\n",
    "nome = \"Alice\"\n",
    "idade = 30\n",
    "altura = 1.75"
   ]
  },
  {
   "cell_type": "code",
   "execution_count": 6,
   "metadata": {},
   "outputs": [
    {
     "name": "stdout",
     "output_type": "stream",
     "text": [
      "Você é maior de idade.\n"
     ]
    }
   ],
   "source": [
    "# Estruturas condicionais\n",
    "\"\"\"Apresentacao.ipynb\n",
    "\n",
    "Você pode usar as seguintes expressões para representar estruturas condicionais:\n",
    "\n",
    " > : maior que \n",
    "\n",
    " < : menor que \n",
    "\n",
    " >= : maior ou igual\n",
    "\n",
    " <= : menor ou igual\n",
    "\n",
    "\"\"\"\n",
    "idade = 18\n",
    "if idade >= 18:\n",
    "    print(\"Você é maior de idade.\")\n",
    "else:\n",
    "    print(\"Você é menor de idade.\")"
   ]
  },
  {
   "cell_type": "code",
   "execution_count": 7,
   "metadata": {},
   "outputs": [
    {
     "name": "stdout",
     "output_type": "stream",
     "text": [
      "0\n",
      "1\n",
      "2\n",
      "3\n",
      "4\n"
     ]
    }
   ],
   "source": [
    "# Laços de repetição\n",
    "for i in range(5):\n",
    "    print(i)"
   ]
  },
  {
   "cell_type": "code",
   "execution_count": 8,
   "metadata": {},
   "outputs": [
    {
     "name": "stdout",
     "output_type": "stream",
     "text": [
      "1 Ñ é menor que 10\n",
      "2 Ñ é menor que 10\n",
      "3 Ñ é menor que 10\n",
      "4 Ñ é menor que 10\n",
      "5 Ñ é menor que 10\n",
      "6 Ñ é menor que 10\n",
      "7 Ñ é menor que 10\n",
      "8 Ñ é menor que 10\n",
      "9 Ñ é menor que 10\n",
      "10 Ñ é menor que 10\n",
      "11 Eh maior que 10\n"
     ]
    }
   ],
   "source": [
    "# Exemplo de laço de repetição com while\n",
    "a = 0\n",
    "while True:\n",
    "    a += 1\n",
    "    if a <= 10 or a == 0:\n",
    "        print(a, \"Ñ é menor que 10\")\n",
    "    else:\n",
    "        print(a, \"Eh maior que 10\")\n",
    "        break"
   ]
  },
  {
   "cell_type": "code",
   "execution_count": 9,
   "metadata": {},
   "outputs": [
    {
     "name": "stdout",
     "output_type": "stream",
     "text": [
      "maçã\n"
     ]
    }
   ],
   "source": [
    "# Listas e tuplas\n",
    "frutas = [\"maçã\", \"banana\", \"laranja\"]\n",
    "print(frutas[0])  # Acessando o primeiro elemento da lista"
   ]
  },
  {
   "cell_type": "code",
   "execution_count": 10,
   "metadata": {},
   "outputs": [
    {
     "name": "stdout",
     "output_type": "stream",
     "text": [
      "Olá, Maria!\n"
     ]
    }
   ],
   "source": [
    "# Funções\n",
    "def saudacao(nome):\n",
    "    return f\"Olá, {nome}!\"\n",
    "\n",
    "mensagem = saudacao(\"Maria\")\n",
    "print(mensagem)"
   ]
  },
  {
   "cell_type": "code",
   "execution_count": 11,
   "metadata": {},
   "outputs": [
    {
     "name": "stdout",
     "output_type": "stream",
     "text": [
      "Nome: Luiz\n",
      "Sobrenome: Silva\n"
     ]
    }
   ],
   "source": [
    "# Tuplas\n",
    "cordenada_1 = (10, 5)\n",
    "nome_completo = (\"Luiz\", \"Marcos\", \"da\", \"Silva\")\n",
    "nome, sobrenome = nome_completo[0], nome_completo[3]\n",
    "print(\"Nome:\", nome)\n",
    "print(\"Sobrenome:\", sobrenome)"
   ]
  },
  {
   "cell_type": "markdown",
   "metadata": {},
   "source": [
    "### Atividade 1\n",
    "\n",
    "Crie uma função que recebe um número inteiro n e determine se ele é par ou ímpar. Se for ímpar, exiba na tela que ele é ímpar, e mostre o seu tipo, em seguida, calcule o fatorial desse número. No caso de o inteiro ser par, imprima na tela que ele é par e seu tipo, também mostre os n primeiros números da sequência de Fibonacci desse número."
   ]
  },
  {
   "cell_type": "code",
   "execution_count": 12,
   "metadata": {},
   "outputs": [
    {
     "name": "stdout",
     "output_type": "stream",
     "text": [
      "Arquivo 0: Apresentacao.ipynb\n",
      "Arquivo 1: Apresentacao_cola.ipynb\n",
      "Arquivo 2: Apresentacao_Fernanda.ipynb\n",
      "Arquivo 3: ballDetect.py\n",
      "Arquivo 4: Semuni.ipynb\n"
     ]
    }
   ],
   "source": [
    "# Listando usando o python \n",
    "\n",
    "# O pacote os nos permite usar comandos básicos do sitema operacional. \n",
    "pasta = os.listdir('./') # retorna uma lista com os arquivos presentes no diretório passado\n",
    "\n",
    "# Printando os arquivos presentes na pasta\n",
    "for num, arquivo in enumerate(pasta):\n",
    "    print(f\"Arquivo {num}: {arquivo}\")"
   ]
  },
  {
   "cell_type": "code",
   "execution_count": 13,
   "metadata": {},
   "outputs": [
    {
     "name": "stdout",
     "output_type": "stream",
     "text": [
      "['lena_monocromatica.jpg', 'Convolucao_Imagens.png', 'lena_blue.jpg', 'ballVideo.mp4', 'unbeatables_logo.png', 'lena_green.jpg', 'color_balls2.png', 'rgbExample.png', 'RGB_color_solid_cube.png', 'HSV.png', 'unbeatables_merged.jpg', 'ballDetect.py', 'camposVisao.png', 'lena_merged.jpg', 'teste.png', 'imgZeros.png', 'lena.png', 'imgGray.png', 'lena_red.jpg', 'color_balls.png', 'lena_noisy.jpeg', 'HSL.png', 'unbeatables_red.jpg', 'robo.jpg', 'cubo_RGB.png', 'unbeatables_blue.jpg', 'grayExample.png', 'desafio.png', 'lena.jpg', 'unbeatables_green.jpg']\n"
     ]
    }
   ],
   "source": [
    "# Verificando o contéudo da nossa pasta assets\n",
    "if not os.listdir('../assets/'): # verifica se a pasta está vazia\n",
    "    print(\"Pasta vazia!\")\n",
    "else:\n",
    "    print(os.listdir('../assets/'))"
   ]
  },
  {
   "cell_type": "markdown",
   "metadata": {},
   "source": [
    "## O que é visão computacional?\n",
    "\n",
    "*\"A visão computacional é um campo da inteligência artificial (IA) que permite que computadores e sistemas obtenham informações significativas de imagens digitais, vídeos e outras entradas visuais — e tomem ações ou façam recomendações com base nessas informações. Se a IA permite que os computadores pensem, a visão computacional permite que eles vejam, observem e entendam.\"* [site da IBM](https://www.ibm.com/).\n",
    "\n",
    "*\"A visão computacional é um campo da ciência da computação que se concentra em permitir que computadores identifiquem e entendam objetos e pessoas em imagens e vídeos. Como outros tipos de IA, a visão computacional busca executar e automatizar tarefas que replicam as capacidades humanas. Nesse caso, a visão computacional busca replicar tanto a maneira como os humanos veem quanto a maneira como os humanos dão sentido ao que veem.\"* [Microsoft](https://www.ibm.com/)\n",
    "\n",
    "Portanto, a visão computacional é o campo da ciência que faz com que máquinas possam enxergar e interpretar objetos, pessoas em imagens e videos.\n",
    "\n",
    "![Campos da Visão](../assets/camposVisao.png)\n",
    "\n",
    "\n",
    "## OpenCV\n",
    "\n",
    "![opencv](../assets/opencv.png)\n",
    "\n",
    "OpenCV (Open Source Computer Vision) é uma biblioteca de programação, de código aberto, desenvolvida inicialmente pela Intel com o objetivo de tornar a visão computacional mais acessível a desenvolvedores. \n",
    "\n",
    "Atualmente possui mais de 500 funções e pode ser usada em diversas linguagens de programação (Python, C++, Java...) e é usada em diversos tipos de análise em imagens e vídeos, como detecção, tracking e reconhecimento facial, edição de fotos, vídeos, etc.\n",
    "\n",
    "\n",
    "## Imagem Digital\n",
    "\n",
    "**Uma imagem digital(2D) é geralmente representada em termos de duas dimensões:** largura e altura. Dessa forma, cada pixel na imagem é identificado por sua posição nessas duas dimensões.\n",
    "\n",
    "No entanto, a representação de cores em uma imagem adiciona uma terceira dimensão, que é a dimensão da cor. Isso resulta em uma imagem colorida, onde cada pixel possui informações de cor. A dimensão de cor pode ser representada de diferentes maneiras, sendo as mais comuns:\n",
    "\n",
    "**Imagem em Escala de Cinza (Monocromática):** Nesse caso, cada pixel possui apenas um valor que representa a intensidade de brilho, variando de preto (0) a branco (255). A imagem é, portanto, uma matriz 2D de valores de intensidade.\n",
    "\n",
    "**$$f(x,y) = (L_{1})$$**\n",
    "\n",
    "$L_{min}$ e $L_{max}$: Variando de 0 até 255 - (8 bits na banda)\n",
    "\n",
    "![imagemCinza](../assets/imgGrayExample.jpg)\n",
    "\n",
    "**Imagem Colorida:** Para imagens coloridas, cada pixel possui três valores de cor: vermelho (R), verde (G) e azul (B), ou seja, cada pixel é uma combinação dessas três cores primárias. Essa representação é comum e é chamada de espaço de cores RGB. Cada canal de cor representa uma dimensão adicional na imagem.\n",
    "\n",
    "**Portanto, para uma imagem colorida, você teria três dimensões:** largura, altura e canais de cor (geralmente vermelho, verde e azul), tornando-a uma imagem 3D. Em termos de matrizes, isso seria representado como uma matriz 3D, onde cada elemento da matriz contém um vetor de três valores de cor\n",
    "\n",
    "**$$f(x,y) = (L_{1}, L_{2}, L_{3})$$**\n",
    "\n",
    "$L_{min}$ e $L_{max}$: Variando de 0 até 255 - 3x(8 bits por banda)\n",
    "\n",
    "\n",
    "<img src=\"../assets/rgbExample.png\" width=\"600\">\n",
    "\n",
    "\n",
    "## Espaço de Cores RGB\n",
    "\n",
    "O espaço de cores RGB é um modelo de cores que é amplamente utilizado na representação de imagens digitais. Ele é baseado na combinação de três cores primárias: vermelho, verde e azul. Cada pixel em uma imagem RGB é representado por três valores numéricos que indicam a intensidade de cada uma dessas cores. Esses valores variam de 0 a 255, o que significa que existem 256 níveis de intensidade para cada cor. Ao combinar essas três cores primárias em diferentes proporções, podemos criar uma ampla variedade de cores.\n",
    "\n",
    "<img src=\"../assets/RGB_color_solid_cube.png\" width=\"300\">\n",
    "\n",
    "O espaço de cores RGB é usado em muitos dispositivos eletrônicos, como monitores de computador, câmeras digitais e scanners. Ele também é usado em muitos softwares de edição de imagem, como o Adobe Photoshop e o GIMP.\n",
    "\n",
    "### Compreendendo os canais de cores \n",
    "\n",
    "<!-- <img src=\"../assets/lena.jpg\"> --> \n",
    "<!-- Achei melhor usar da UnBeatables -->\n",
    "\n",
    "<img src=\"../assets/unbeatables_logo.png\" width = 300>\n",
    "\n",
    "\n",
    "Agora sabendo o que é uma imagem colorida, imagine-a como um quebra-cabeça composto por três partes fundamentais: os canais de cores RGB. Ao separar os canais, é possível perceber como cada um contribui para a aparência da imagem. O canal vermelho enfatiza as áreas da imagem com vermelho predominante, o canal verde destaca os verdes e o canal azul realça os azuis.\n",
    "\n",
    "Sabendo que cada canal contribui com sua intensidade e matiz específicas, ao combinar novamente os canais RGB, forma-se a imagem colorida original. \n",
    "\n",
    "Entender como esses canais funcionam é muito importante para edição e processamento de imagens em diversos contextos.\n"
   ]
  }
 ],
 "metadata": {
  "kernelspec": {
   "display_name": "dev",
   "language": "python",
   "name": "python3"
  },
  "language_info": {
   "codemirror_mode": {
    "name": "ipython",
    "version": 3
   },
   "file_extension": ".py",
   "mimetype": "text/x-python",
   "name": "python",
   "nbconvert_exporter": "python",
   "pygments_lexer": "ipython3",
   "version": "3.11.3"
  },
  "orig_nbformat": 4
 },
 "nbformat": 4,
 "nbformat_minor": 2
}
